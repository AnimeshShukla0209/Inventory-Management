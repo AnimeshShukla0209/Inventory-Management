{
 "cells": [
  {
   "cell_type": "code",
   "execution_count": 1,
   "id": "84ae8a25",
   "metadata": {},
   "outputs": [],
   "source": [
    "fd = open(\"Inventory.txt\",\"a\")\n",
    "\n",
    "fd.close()"
   ]
  },
  {
   "cell_type": "code",
   "execution_count": 2,
   "id": "e22c67ec",
   "metadata": {},
   "outputs": [],
   "source": [
    "readfile = open(\"Inventory.txt\",\"r\")\n",
    "products = readfile.read().split(\"\\n\")\n",
    "readfile.close()"
   ]
  },
  {
   "cell_type": "code",
   "execution_count": 3,
   "id": "3717b946",
   "metadata": {},
   "outputs": [
    {
     "name": "stdout",
     "output_type": "stream",
     "text": [
      "1,Chocolate,2,500\n",
      "2,Biscuit,70,481\n",
      "3,Ice-Cream,30,60\n",
      "4,Bread,20,30\n",
      "5,Muesli,100,50\n",
      "6,Maggi,22,56\n",
      "7,Paneer,200,10\n"
     ]
    }
   ],
   "source": [
    "for i in products:\n",
    "    print(i)"
   ]
  },
  {
   "cell_type": "code",
   "execution_count": 4,
   "id": "67f9cf3b",
   "metadata": {},
   "outputs": [
    {
     "name": "stdout",
     "output_type": "stream",
     "text": [
      "Enter your full name :Animesh Shukla\n",
      "Enter your phone number :+917999785780\n",
      "Enter your gmail :AnimeshShukla0209@gmail.com\n",
      "Enter product ID: 6\n",
      "Enter product Quantity: 5\n",
      "-----------------------------\n",
      "Product Name     :  Maggi\n",
      "Price            :  22\n",
      "Quantity         :  5\n",
      "-----------------------------\n",
      "Billing Amount   :  110\n",
      "-----------------------------\n",
      "---------------------\n",
      "Inventory Updated\n"
     ]
    }
   ],
   "source": [
    "# Reading the Inventory\n",
    "fd = open('Inventory.txt','r')  \n",
    "products = fd.read().split('\\n')\n",
    "fd.close()\n",
    "\n",
    "# Taling User Input\n",
    "ui_name = input(\"Enter your full name :\")\n",
    "ui_phone = input(\"Enter your phone number :\")\n",
    "ui_gmail = input(\"Enter your gmail :\")\n",
    "ui_prod_id = input(\"Enter product ID: \")\n",
    "ui_prod_qn = input(\"Enter product Quantity: \")\n",
    "\n",
    "updated_product_lst = []\n",
    "\n",
    "# Going through each product detail\n",
    "for product in products:\n",
    "    \n",
    "    prod_details = product.split(',')\n",
    "    \n",
    "    if(prod_details[0] == ui_prod_id):\n",
    "    # Checking if product exists or not\n",
    "\n",
    "        if (int(ui_prod_qn) <= int(prod_details[3])):\n",
    "        # If we're having enough quantity\n",
    "        \n",
    "            print(\"-----------------------------\")\n",
    "            print(\"Product Name     : \", prod_details[1])\n",
    "            print(\"Price            : \", prod_details[2]) \n",
    "            print(\"Quantity         : \", ui_prod_qn) \n",
    "            print(\"-----------------------------\")\n",
    "            print(\"Billing Amount   : \", int(ui_prod_qn) * int(prod_details[2]))\n",
    "            print(\"-----------------------------\")\n",
    "\n",
    "            prod_details[3] = str(int(prod_details[3]) - int(ui_prod_qn))\n",
    "            \n",
    "            #Genearating and save the user details\n",
    "            fd = open(\"Sales.txt\",'a')\n",
    "            fd.write(ui_name +\",\" + ui_phone + \",\" + ui_gmail + \",\" + ui_prod_id + \",\" + ui_prod_qn +\",\" + str(int(ui_prod_qn) * int(prod_details[2])) +\"\\n\")\n",
    "            \n",
    "        else:\n",
    "        # If we're not having enough quantity\n",
    "            print(\"Sorry, We're not having enought quantity.\")\n",
    "            print(\"We're having only\",prod_details[3],'quantity.')\n",
    "            print(\"Would you like to purchase it?\")\n",
    "            \n",
    "            ch = input(\"Press Y/N: \")\n",
    "            \n",
    "            if (ch == 'Y' or ch == 'y'):\n",
    "            # If you want to purchase with remaining quantity\n",
    "            \n",
    "                print(\"-----------------------------\")\n",
    "                print(\"Product Name     : \", prod_details[1])\n",
    "                print(\"Price            : \", prod_details[2]) \n",
    "                print(\"Quantity         : \", prod_details[3]) \n",
    "                print(\"-----------------------------\")\n",
    "                print(\"Billing Amount   : \", int(prod_details[3]) * int(prod_details[2]))\n",
    "                print(\"-----------------------------\")\n",
    "                \n",
    "                fd = open(\"Sales.txt\",'a')\n",
    "                fd.write(ui_name +\",\" + ui_phone + \",\" + ui_gmail + \",\" + ui_prod_id + \",\" + prod_details[3] +\",\" + str(int(prod_details[3]) * int(prod_details[2])) +\"\\n\")\n",
    "    \n",
    "                prod_details[3] = '0'\n",
    "\n",
    "            else:\n",
    "                print(\"Thanks\")\n",
    "                \n",
    "            \n",
    "    # Updating my Inventory List\n",
    "    updated_product_lst.append(prod_details)\n",
    "    \n",
    "\n",
    "    \n",
    "lst = []\n",
    "\n",
    "# Updating my Inventory String\n",
    "for i in updated_product_lst:\n",
    "    prod = i[0] +\",\"+  i[1] +\",\"+ i[2] +\",\"+ i[3] + '\\n'\n",
    "    lst.append(prod)\n",
    "\n",
    "    \n",
    "lst[-1] = lst[-1][:-1]\n",
    "    \n",
    "\n",
    "# Updating Inventory File\n",
    "fd = open('Inventory.txt','w')\n",
    "\n",
    "for i in lst:\n",
    "    fd.write(i)\n",
    "fd.close()\n",
    "\n",
    "print(\"---------------------\")\n",
    "print(\"Inventory Updated\")    "
   ]
  },
  {
   "cell_type": "code",
   "execution_count": 6,
   "id": "94b4eee2",
   "metadata": {},
   "outputs": [
    {
     "name": "stdout",
     "output_type": "stream",
     "text": [
      "1 Chocolate 2 500\n",
      "2 Biscuit 70 697\n",
      "3 Ice-Cream 500 60\n"
     ]
    }
   ],
   "source": []
  },
  {
   "cell_type": "code",
   "execution_count": null,
   "id": "46a279df",
   "metadata": {},
   "outputs": [],
   "source": []
  }
 ],
 "metadata": {
  "kernelspec": {
   "display_name": "Python 3 (ipykernel)",
   "language": "python",
   "name": "python3"
  },
  "language_info": {
   "codemirror_mode": {
    "name": "ipython",
    "version": 3
   },
   "file_extension": ".py",
   "mimetype": "text/x-python",
   "name": "python",
   "nbconvert_exporter": "python",
   "pygments_lexer": "ipython3",
   "version": "3.10.9"
  }
 },
 "nbformat": 4,
 "nbformat_minor": 5
}
